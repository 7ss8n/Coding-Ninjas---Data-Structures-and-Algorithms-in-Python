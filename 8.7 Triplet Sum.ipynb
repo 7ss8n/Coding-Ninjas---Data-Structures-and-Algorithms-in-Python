{
 "cells": [
  {
   "cell_type": "code",
   "execution_count": 1,
   "metadata": {},
   "outputs": [
    {
     "name": "stdout",
     "output_type": "stream",
     "text": [
      "7\n",
      "1 2 3 4 5 6 7\n",
      "12\n",
      "1 4 7\n",
      "1 5 6\n",
      "2 3 7\n",
      "2 4 6\n",
      "3 4 5\n"
     ]
    }
   ],
   "source": [
    "n = int(input())\n",
    "li = [int(x) for x in input().split()]\n",
    "li.sort()\n",
    " \n",
    "r = int(input())\n",
    " \n",
    "for j in range(n):\n",
    "    st=j+1\n",
    "    end=n-1\n",
    "    m=r-li[j]\n",
    "    while st<=end and end<n and st>-1:\n",
    "        if li[st]+li[end]>m:\n",
    "            end-=1\n",
    "        elif li[st]+li[end]<m:\n",
    "            st+=1\n",
    "        else:\n",
    "            c1=0\n",
    "            c2=0\n",
    "            for i in range(st,end+1):\n",
    "                if li[st]==li[i]:\n",
    "                    c1=c1+1\n",
    "                else:\n",
    "                    break\n",
    "            for i in range(end,st-1,-1):\n",
    "                if li[end]==li[i]:\n",
    "                    c2=c2+1\n",
    "                else:\n",
    "                    break\n",
    "            if li[st]==li[end]:\n",
    "                com=((end-st+1)*(end-st))//2\n",
    "            else:\n",
    "                com=c1*c2\n",
    "            for i in range(com):\n",
    "                print(str(li[j]),str(li[st]),str(li[end]))\n",
    "            st=st+c1\n",
    "            end=end-c2\n",
    "   "
   ]
  },
  {
   "cell_type": "code",
   "execution_count": null,
   "metadata": {},
   "outputs": [],
   "source": []
  }
 ],
 "metadata": {
  "kernelspec": {
   "display_name": "Python 3",
   "language": "python",
   "name": "python3"
  },
  "language_info": {
   "codemirror_mode": {
    "name": "ipython",
    "version": 3
   },
   "file_extension": ".py",
   "mimetype": "text/x-python",
   "name": "python",
   "nbconvert_exporter": "python",
   "pygments_lexer": "ipython3",
   "version": "3.7.3"
  }
 },
 "nbformat": 4,
 "nbformat_minor": 2
}
