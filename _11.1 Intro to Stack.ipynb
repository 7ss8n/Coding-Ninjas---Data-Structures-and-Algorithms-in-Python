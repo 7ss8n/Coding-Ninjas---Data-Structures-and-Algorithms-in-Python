{
 "cells": [
  {
   "cell_type": "markdown",
   "metadata": {},
   "source": [
    "## Stack is an Abstract data structure"
   ]
  },
  {
   "cell_type": "markdown",
   "metadata": {},
   "source": [
    "push --> Inserting an element at the top\n",
    "\n",
    "pop  --> Deleting an element from the top\n",
    "\n",
    "top  --> Accssing the top element of the curren stack\n",
    "\n",
    "** You can't delete an element from the empty stack\n",
    "\n",
    "size --> returns the size of stack\n",
    "\n",
    "isEmpty --> Is a boolean variable which return True if stack is Empty"
   ]
  },
  {
   "cell_type": "markdown",
   "metadata": {},
   "source": [
    "Predict the Output:\n",
    "\n",
    "Que) A stack follows?\n",
    "\n",
    "Ans) LIFO (Last In First Out) "
   ]
  },
  {
   "cell_type": "markdown",
   "metadata": {},
   "source": [
    "## Recursion Stack"
   ]
  },
  {
   "cell_type": "markdown",
   "metadata": {},
   "source": [
    "Predict the OUtput:\n",
    "Q) Which data structure is used for implementing recursion?\n",
    "Ans) Stack"
   ]
  }
 ],
 "metadata": {
  "kernelspec": {
   "display_name": "Python 3",
   "language": "python",
   "name": "python3"
  },
  "language_info": {
   "codemirror_mode": {
    "name": "ipython",
    "version": 3
   },
   "file_extension": ".py",
   "mimetype": "text/x-python",
   "name": "python",
   "nbconvert_exporter": "python",
   "pygments_lexer": "ipython3",
   "version": "3.7.3"
  }
 },
 "nbformat": 4,
 "nbformat_minor": 2
}
