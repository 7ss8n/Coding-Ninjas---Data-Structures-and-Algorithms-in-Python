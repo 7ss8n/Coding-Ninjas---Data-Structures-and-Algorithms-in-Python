{
 "cells": [
  {
   "cell_type": "code",
   "execution_count": 2,
   "metadata": {},
   "outputs": [
    {
     "name": "stdout",
     "output_type": "stream",
     "text": [
      "7\n",
      "15 13 23 21 19 11 16\n",
      "11\n",
      "16\n"
     ]
    }
   ],
   "source": [
    "def longestConsecutiveSubsequence(seq):\n",
    "    if not seq:\n",
    "        return seq\n",
    "\n",
    "    M = [None] * len(seq)    # offset by 1 (j -> j-1)\n",
    "    P = [None] * len(seq)\n",
    "\n",
    "    # Since we have at least one element in our list, we can start by \n",
    "    # knowing that the there's at least an increasing subsequence of length one:\n",
    "    # the first element.\n",
    "    L = 1\n",
    "    M[0] = 0\n",
    "\n",
    "    # Looping over the sequence starting from the second element\n",
    "    for i in range(1, len(seq)):\n",
    "        # Binary search: we want the largest j <= L\n",
    "        #  such that seq[M[j]] < seq[i] (default j = 0),\n",
    "        #  hence we want the lower bound at the end of the search process.\n",
    "        lower = 0\n",
    "        upper = L\n",
    "\n",
    "        # Since the binary search will not look at the upper bound value,\n",
    "        # we'll have to check that manually\n",
    "        if seq[M[upper-1]] < seq[i]:\n",
    "            j = upper\n",
    "\n",
    "        else:\n",
    "            # actual binary search loop\n",
    "            while upper - lower > 1:\n",
    "                mid = (upper + lower) // 2\n",
    "                if seq[M[mid-1]] < seq[i]:\n",
    "                    lower = mid\n",
    "                else:\n",
    "                    upper = mid\n",
    "\n",
    "            j = lower    # this will also set the default value to 0\n",
    "\n",
    "        P[i] = M[j-1]\n",
    "\n",
    "        if j == L or seq[i] < seq[M[j]]:\n",
    "            M[j] = i\n",
    "            L = max(L, j+1)\n",
    "\n",
    "    # Building the result: [seq[M[L-1]], seq[P[M[L-1]]], seq[P[P[M[L-1]]]], ...]\n",
    "    result = []\n",
    "    pos = M[L-1]\n",
    "    for _ in range(L):\n",
    "        result.append(seq[pos])\n",
    "        pos = P[pos]\n",
    "\n",
    "    return result[::-1]    # reversing\n",
    "        \n",
    "\n",
    "n=int(input())\n",
    "l=list(int(i) for i in input().strip().split(' '))\n",
    "final = longestConsecutiveSubsequence(l)\n",
    "for num in final:\n",
    "    print(num)"
   ]
  },
  {
   "cell_type": "code",
   "execution_count": null,
   "metadata": {},
   "outputs": [],
   "source": []
  }
 ],
 "metadata": {
  "kernelspec": {
   "display_name": "Python 3",
   "language": "python",
   "name": "python3"
  },
  "language_info": {
   "codemirror_mode": {
    "name": "ipython",
    "version": 3
   },
   "file_extension": ".py",
   "mimetype": "text/x-python",
   "name": "python",
   "nbconvert_exporter": "python",
   "pygments_lexer": "ipython3",
   "version": "3.7.3"
  }
 },
 "nbformat": 4,
 "nbformat_minor": 2
}
