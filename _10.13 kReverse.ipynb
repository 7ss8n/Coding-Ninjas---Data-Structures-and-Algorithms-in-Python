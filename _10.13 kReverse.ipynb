{
 "cells": [
  {
   "cell_type": "code",
   "execution_count": 5,
   "metadata": {},
   "outputs": [
    {
     "name": "stdout",
     "output_type": "stream",
     "text": [
      "9\n",
      "2\n",
      "1 2 3 4 5 6 7 8 9 \n"
     ]
    }
   ],
   "source": [
    "import math\n",
    "class Node: \n",
    "    def __init__(self, data):\n",
    "        self.data = data\n",
    "        self.next = None\n",
    "\n",
    "def length(head):\n",
    "    cnt = 0\n",
    "    while head is not None:\n",
    "        head = head.next\n",
    "        cnt += 1\n",
    "    return cnt\n",
    "        \n",
    "def reverse(head):\n",
    "    if head is None or head.next is None:\n",
    "        return head\n",
    "    smallHead = reverse(head.next)\n",
    "    head.next.next = head\n",
    "    head.next = head\n",
    "    \n",
    "    return smallHead\n",
    "        \n",
    "def kReverse(head, n):\n",
    "    if n > length(head):\n",
    "        return reverse(head)\n",
    "    curr = head\n",
    "    \n",
    "    print(length(head))\n",
    "    \n",
    "    times = math.ceil(length(head)//n)\n",
    "    \n",
    "    print(times)\n",
    "    return head\n",
    "    \n",
    "    \n",
    "\n",
    "def ll(arr):\n",
    "    if len(arr)==0:\n",
    "        return None\n",
    "    head = Node(arr[0])\n",
    "    last = head\n",
    "    for data in arr[1:]:\n",
    "        last.next = Node(data)\n",
    "        last = last.next\n",
    "    return head\n",
    "\n",
    "def printll(head):\n",
    "    while head:\n",
    "        print(head.data, end=' ')\n",
    "        head = head.next\n",
    "    print()\n",
    "\n",
    "arr = [1,2,3,4,5,6,7,8,9,10]\n",
    "#arr=list(int(i) for i in input().strip().split(' '))\n",
    "l = ll(arr[:-1])\n",
    "#i=int(input())\n",
    "i = 4\n",
    "l = kReverse(l, i)\n",
    "printll(l)\n"
   ]
  },
  {
   "cell_type": "code",
   "execution_count": null,
   "metadata": {},
   "outputs": [],
   "source": []
  }
 ],
 "metadata": {
  "kernelspec": {
   "display_name": "Python 3",
   "language": "python",
   "name": "python3"
  },
  "language_info": {
   "codemirror_mode": {
    "name": "ipython",
    "version": 3
   },
   "file_extension": ".py",
   "mimetype": "text/x-python",
   "name": "python",
   "nbconvert_exporter": "python",
   "pygments_lexer": "ipython3",
   "version": "3.7.3"
  }
 },
 "nbformat": 4,
 "nbformat_minor": 2
}
